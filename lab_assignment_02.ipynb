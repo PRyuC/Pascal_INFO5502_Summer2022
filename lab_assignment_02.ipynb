{
  "cells": [
    {
      "cell_type": "markdown",
      "metadata": {
        "id": "view-in-github",
        "colab_type": "text"
      },
      "source": [
        "<a href=\"https://colab.research.google.com/github/PRyuC/Pascal_INFO5502_Summer2022/blob/main/lab_assignment_02.ipynb\" target=\"_parent\"><img src=\"https://colab.research.google.com/assets/colab-badge.svg\" alt=\"Open In Colab\"/></a>"
      ]
    },
    {
      "cell_type": "markdown",
      "metadata": {
        "id": "Ryk8D1Q4Wsrp"
      },
      "source": [
        "# **The second Lab-assignment (07/19/2022 11:59'AM' - 07/22/2022 11:59PM, 50 points in total)**"
      ]
    },
    {
      "cell_type": "markdown",
      "metadata": {
        "id": "90_NR8c5XGWc"
      },
      "source": [
        "# Question 1\n",
        "\n",
        "(5 points). Write a Python program to generate 12 random numbers between 1 and 100. Sort the list of numbers in ascending order and print it out. Sort the list of numbers in descending order and print it out. Calculate the average for the group and print it out."
      ]
    },
    {
      "cell_type": "code",
      "execution_count": 193,
      "metadata": {
        "colab": {
          "base_uri": "https://localhost:8080/"
        },
        "id": "5QX6bJjGWXY9",
        "outputId": "5d691667-52bf-4357-b192-1e946dfc97de"
      },
      "outputs": [
        {
          "output_type": "stream",
          "name": "stdout",
          "text": [
            "[4, 23, 24, 34, 51, 51, 72, 79, 83, 84, 86, 97]\n",
            "[97, 86, 84, 83, 79, 72, 51, 51, 34, 24, 23, 4]\n"
          ]
        },
        {
          "output_type": "execute_result",
          "data": {
            "text/plain": [
              "57.333333333333336"
            ]
          },
          "metadata": {},
          "execution_count": 193
        }
      ],
      "source": [
        "import random                                    # importing the random module to access random methods\n",
        "\n",
        "def random_twelve():                             # defining a function, no parameters needed\n",
        "\n",
        "  lst_num = []                                   # creating an empty list to store the numbers\n",
        "\n",
        "  for item in range(12):                         # using range function to get 12 numbers\n",
        "    x = random.randrange(1, 101)                 # 1 to 101 so that last possible number is 100\n",
        "    lst_num.append(x)                            # appending the 12 random numbers to the list\n",
        "    sorted_lst_num = sorted(lst_num)             # sorting the list\n",
        "    rev_lst_num = sorted(lst_num, reverse=True)  # reverse=True for descending order\n",
        "\n",
        "  print(sorted_lst_num)\n",
        "  print(rev_lst_num)\n",
        "\n",
        "  count = 0                                      # counter to count and add the numbers in the list\n",
        "  for num in lst_num:\n",
        "    count += num                                 # adding the number progressively\n",
        "    average = count / len(lst_num)               # averaging by using the total count and dividing by 12\n",
        "\n",
        "  return average\n",
        "\n",
        "random_twelve()"
      ]
    },
    {
      "cell_type": "markdown",
      "metadata": {
        "id": "CmFoI4jDS9nx"
      },
      "source": [
        "# Question 2 \n",
        "\n",
        "(5 points). The formula that describes the volume V of a sphere with radius r is the following:\n",
        "\n",
        "$ V=\\frac{4}{3}\\ast\\ \\pi\\ast\\ r^3 $\n",
        "\n",
        "Write a program to calculate the value of V when r is in the range of 1–10. Output the result in the following format:\n",
        "\n",
        "\tr\tV\n",
        "\t1\t…\n",
        "\t2\t…\n",
        "\t3\t…\n"
      ]
    },
    {
      "cell_type": "code",
      "execution_count": 194,
      "metadata": {
        "colab": {
          "base_uri": "https://localhost:8080/"
        },
        "id": "pEyqeioAT95b",
        "outputId": "f8105531-a055-4c94-90f2-6a41d941d355"
      },
      "outputs": [
        {
          "output_type": "stream",
          "name": "stdout",
          "text": [
            "r V\n",
            "1 4.188790204786667\n",
            "2 33.510321638293334\n",
            "3 113.09733552924\n",
            "4 268.0825731063467\n",
            "5 523.5987755983333\n",
            "6 904.77868423392\n",
            "7 1436.7550402418267\n",
            "8 2144.6605848507734\n",
            "9 3053.62805928948\n",
            "10 4188.790204786666\n"
          ]
        }
      ],
      "source": [
        "def calcul_V():                   # defining a function, no parameters needed\n",
        "\n",
        "  pi = 3.14159265359              # assigning first pi values to a variable\n",
        "  print(\"r\", \"V\")                 # printing r V for the headers\n",
        "  for num in range(1, 11):        # using 1 to 11 since 11 not included\n",
        "    r = num                       # r will be each number in the range iteratively\n",
        "    V = 4/3 * pi * r**3           # the formula for each r\n",
        "    print(r, V)\n",
        "\n",
        "calcul_V()"
      ]
    },
    {
      "cell_type": "markdown",
      "metadata": {
        "id": "z3tBE7E-Xn5X"
      },
      "source": [
        "# Question 3\n",
        "\n",
        "(40 points). In the field of Data Science, data is often formatted as a comma-delimited (CSV) file, where each line in a file corresponds to a field's value. Refer to Chapter 9 (p. 106) for more information on comma-delimited files. To answer this question, you will need to download the file [lab_assignment_02_denton_housing.csv](https://github.com/suthapalliuday/INFO5502-Summer2022/blob/main/datasets/lab_assignment_02_denton_housing.csv) included with this assignment. The file [lab_assignment_02_denton_housing.csv](https://github.com/suthapalliuday/INFO5502-Summer2022/blob/main/datasets/lab_assignment_02_denton_housing.csv) contains statistics about housing in the city of Denton from 2008 to 2014. Write a program to implement the following questions.\n",
        "\n",
        "(1) (10 pts) Calculate the difference in the number of Occupied Housing Units from year to year and print it. The difference must be calculated for the consecutive years such as 2008-2009, 2009-2010 etc. Finally, print the values in the ascending order.\n",
        "\n",
        "(2) (10 pts) For all the years, calculate the percentage of housing units which are vacant an occupied. Print the results in the following format:\n",
        "\n",
        "Year Vacant Housing Units Occupied Housing Units\n",
        "\n",
        "    2008  30%   70%                          \n",
        "\t2009 ----- -----\n",
        "\t2010 ----- -----\n",
        "    2011 ----- -----\n",
        "\t2012 ----- -----\n",
        "    2013 ----- -----\n",
        "\t2014 ----- -----\n",
        "  \n",
        "  \n",
        "\n",
        "(3) (10 pts) Calculate and print the valued and years in which the highest number of housing units were vacant and occupied. Print the results in the following format:  \n",
        "\n",
        "                              Year\tValue\n",
        "\tVacant Housing Units\t  -----   -----\n",
        "\tOccupied Housing Units\t-----   -----\n",
        "\n",
        "(4) (10 pts) Calculate the harmonic mean of the total housing units and print it out. You can find the information about harmonic mean here: https://ncalculators.com/statistics/harmonic-mean-calculator.htm"
      ]
    },
    {
      "cell_type": "code",
      "execution_count": 284,
      "metadata": {
        "colab": {
          "base_uri": "https://localhost:8080/"
        },
        "id": "lqGYuHBhcsRH",
        "outputId": "0fad5d83-eba7-4af1-e90c-1e60b301b76b"
      },
      "outputs": [
        {
          "output_type": "stream",
          "name": "stdout",
          "text": [
            "    year             title_field  value  difference\n",
            "2   2014  Occupied Housing Units  46295         NaN\n",
            "5   2013  Occupied Housing Units  43673     -2622.0\n",
            "8   2012  Occupied Housing Units  42108     -1565.0\n",
            "11  2011  Occupied Housing Units  40704     -1404.0\n",
            "14  2010  Occupied Housing Units  41007       303.0\n",
            "17  2009  Occupied Housing Units  35916     -5091.0\n",
            "20  2008  Occupied Housing Units  36711       795.0\n",
            "\n",
            "\n",
            "    year             title_field  value  difference\n",
            "17  2009  Occupied Housing Units  35916     -5091.0\n",
            "5   2013  Occupied Housing Units  43673     -2622.0\n",
            "8   2012  Occupied Housing Units  42108     -1565.0\n",
            "11  2011  Occupied Housing Units  40704     -1404.0\n",
            "14  2010  Occupied Housing Units  41007       303.0\n",
            "20  2008  Occupied Housing Units  36711       795.0\n",
            "2   2014  Occupied Housing Units  46295         NaN\n"
          ]
        }
      ],
      "source": [
        "import pandas as pd                                             # importing the pandas module to access dataframes functions\n",
        "\n",
        "df = pd.read_csv(\"/content/csv_project/lab_assignment_02_denton_housing.csv\")  # assigning csv file to a variable\n",
        "\n",
        "   \n",
        "\n",
        "df_OHU = df.loc[df['title_field'] == \"Occupied Housing Units\"].copy()  # only considering Occupied Units as a dataframe\n",
        "                                                                       # copy() to prevent warning message\n",
        "df_OHU['difference'] = df_OHU['value'].diff()                   # creating a new column for the differences with the diff method for the value column\n",
        "\n",
        "print(df_OHU, end='\\n\\n\\n')                                     # printing differences where each row is the difference of the one on top\n",
        "print(df_OHU.sort_values('difference'))                         # sorting in ascending order with sort_values method"
      ]
    },
    {
      "cell_type": "code",
      "source": [
        "df_VHU = df.loc[df['title_field'] == \"Vacant Housing Units\"]  # only considering the Vacant Units\n",
        "\n",
        "vac_val = []                      # creating new lists to assign values\n",
        "occ_val = []\n",
        "vac_percent = []\n",
        "years = []\n",
        "occ_percent = []\n",
        "\n",
        "for i in df_VHU['year']:           # appending every year to a list\n",
        "  years.append(i)\n",
        "\n",
        "for i in df_VHU['value']:          # appending every vacant values to a list\n",
        "  vac_val.append(i)\n",
        "  \n",
        "for i in df_OHU['value']:          # appending every occupied values to a list\n",
        "  occ_val.append(i)\n",
        "\n",
        "for i,j in zip(vac_val,occ_val):         # zipping vacant and occupied values\n",
        "  vac_percent.append(i/j*100)            # to divide each vacant value by each occupied value * 100 for %\n",
        " \n",
        "for i in vac_percent:                    # appending percentage difference in another list\n",
        "  occ_percent.append(100-i)\n",
        "\n",
        "dct2 = {                                 # creating a new dictionary with years and %\n",
        "    'Year' : years,\n",
        "    'Vacant Housing Units' : vac_percent,\n",
        "    'Occupied Housing Units': occ_percent\n",
        "}\n",
        "\n",
        "new_df = pd.DataFrame(dct2)                # transforming dictionary into dataframe\n",
        "new_df = new_df.iloc[::-1]                 # reversing index order so 2008 is at the start\n",
        "\n",
        "new_df"
      ],
      "metadata": {
        "colab": {
          "base_uri": "https://localhost:8080/",
          "height": 269
        },
        "id": "bl5ZopuaXSzN",
        "outputId": "ae829fd3-2e7d-4e02-ed26-dad13f62884d"
      },
      "execution_count": 286,
      "outputs": [
        {
          "output_type": "execute_result",
          "data": {
            "text/plain": [
              "   Year  Vacant Housing Units  Occupied Housing Units\n",
              "6  2008             12.211599               87.788401\n",
              "5  2009              9.976055               90.023945\n",
              "4  2010              8.864340               91.135660\n",
              "3  2011             10.350334               89.649666\n",
              "2  2012              7.155410               92.844590\n",
              "1  2013              9.651272               90.348728\n",
              "0  2014              6.078410               93.921590"
            ],
            "text/html": [
              "\n",
              "  <div id=\"df-b59e1fee-619d-46f3-85a6-de5ce7af0dc2\">\n",
              "    <div class=\"colab-df-container\">\n",
              "      <div>\n",
              "<style scoped>\n",
              "    .dataframe tbody tr th:only-of-type {\n",
              "        vertical-align: middle;\n",
              "    }\n",
              "\n",
              "    .dataframe tbody tr th {\n",
              "        vertical-align: top;\n",
              "    }\n",
              "\n",
              "    .dataframe thead th {\n",
              "        text-align: right;\n",
              "    }\n",
              "</style>\n",
              "<table border=\"1\" class=\"dataframe\">\n",
              "  <thead>\n",
              "    <tr style=\"text-align: right;\">\n",
              "      <th></th>\n",
              "      <th>Year</th>\n",
              "      <th>Vacant Housing Units</th>\n",
              "      <th>Occupied Housing Units</th>\n",
              "    </tr>\n",
              "  </thead>\n",
              "  <tbody>\n",
              "    <tr>\n",
              "      <th>6</th>\n",
              "      <td>2008</td>\n",
              "      <td>12.211599</td>\n",
              "      <td>87.788401</td>\n",
              "    </tr>\n",
              "    <tr>\n",
              "      <th>5</th>\n",
              "      <td>2009</td>\n",
              "      <td>9.976055</td>\n",
              "      <td>90.023945</td>\n",
              "    </tr>\n",
              "    <tr>\n",
              "      <th>4</th>\n",
              "      <td>2010</td>\n",
              "      <td>8.864340</td>\n",
              "      <td>91.135660</td>\n",
              "    </tr>\n",
              "    <tr>\n",
              "      <th>3</th>\n",
              "      <td>2011</td>\n",
              "      <td>10.350334</td>\n",
              "      <td>89.649666</td>\n",
              "    </tr>\n",
              "    <tr>\n",
              "      <th>2</th>\n",
              "      <td>2012</td>\n",
              "      <td>7.155410</td>\n",
              "      <td>92.844590</td>\n",
              "    </tr>\n",
              "    <tr>\n",
              "      <th>1</th>\n",
              "      <td>2013</td>\n",
              "      <td>9.651272</td>\n",
              "      <td>90.348728</td>\n",
              "    </tr>\n",
              "    <tr>\n",
              "      <th>0</th>\n",
              "      <td>2014</td>\n",
              "      <td>6.078410</td>\n",
              "      <td>93.921590</td>\n",
              "    </tr>\n",
              "  </tbody>\n",
              "</table>\n",
              "</div>\n",
              "      <button class=\"colab-df-convert\" onclick=\"convertToInteractive('df-b59e1fee-619d-46f3-85a6-de5ce7af0dc2')\"\n",
              "              title=\"Convert this dataframe to an interactive table.\"\n",
              "              style=\"display:none;\">\n",
              "        \n",
              "  <svg xmlns=\"http://www.w3.org/2000/svg\" height=\"24px\"viewBox=\"0 0 24 24\"\n",
              "       width=\"24px\">\n",
              "    <path d=\"M0 0h24v24H0V0z\" fill=\"none\"/>\n",
              "    <path d=\"M18.56 5.44l.94 2.06.94-2.06 2.06-.94-2.06-.94-.94-2.06-.94 2.06-2.06.94zm-11 1L8.5 8.5l.94-2.06 2.06-.94-2.06-.94L8.5 2.5l-.94 2.06-2.06.94zm10 10l.94 2.06.94-2.06 2.06-.94-2.06-.94-.94-2.06-.94 2.06-2.06.94z\"/><path d=\"M17.41 7.96l-1.37-1.37c-.4-.4-.92-.59-1.43-.59-.52 0-1.04.2-1.43.59L10.3 9.45l-7.72 7.72c-.78.78-.78 2.05 0 2.83L4 21.41c.39.39.9.59 1.41.59.51 0 1.02-.2 1.41-.59l7.78-7.78 2.81-2.81c.8-.78.8-2.07 0-2.86zM5.41 20L4 18.59l7.72-7.72 1.47 1.35L5.41 20z\"/>\n",
              "  </svg>\n",
              "      </button>\n",
              "      \n",
              "  <style>\n",
              "    .colab-df-container {\n",
              "      display:flex;\n",
              "      flex-wrap:wrap;\n",
              "      gap: 12px;\n",
              "    }\n",
              "\n",
              "    .colab-df-convert {\n",
              "      background-color: #E8F0FE;\n",
              "      border: none;\n",
              "      border-radius: 50%;\n",
              "      cursor: pointer;\n",
              "      display: none;\n",
              "      fill: #1967D2;\n",
              "      height: 32px;\n",
              "      padding: 0 0 0 0;\n",
              "      width: 32px;\n",
              "    }\n",
              "\n",
              "    .colab-df-convert:hover {\n",
              "      background-color: #E2EBFA;\n",
              "      box-shadow: 0px 1px 2px rgba(60, 64, 67, 0.3), 0px 1px 3px 1px rgba(60, 64, 67, 0.15);\n",
              "      fill: #174EA6;\n",
              "    }\n",
              "\n",
              "    [theme=dark] .colab-df-convert {\n",
              "      background-color: #3B4455;\n",
              "      fill: #D2E3FC;\n",
              "    }\n",
              "\n",
              "    [theme=dark] .colab-df-convert:hover {\n",
              "      background-color: #434B5C;\n",
              "      box-shadow: 0px 1px 3px 1px rgba(0, 0, 0, 0.15);\n",
              "      filter: drop-shadow(0px 1px 2px rgba(0, 0, 0, 0.3));\n",
              "      fill: #FFFFFF;\n",
              "    }\n",
              "  </style>\n",
              "\n",
              "      <script>\n",
              "        const buttonEl =\n",
              "          document.querySelector('#df-b59e1fee-619d-46f3-85a6-de5ce7af0dc2 button.colab-df-convert');\n",
              "        buttonEl.style.display =\n",
              "          google.colab.kernel.accessAllowed ? 'block' : 'none';\n",
              "\n",
              "        async function convertToInteractive(key) {\n",
              "          const element = document.querySelector('#df-b59e1fee-619d-46f3-85a6-de5ce7af0dc2');\n",
              "          const dataTable =\n",
              "            await google.colab.kernel.invokeFunction('convertToInteractive',\n",
              "                                                     [key], {});\n",
              "          if (!dataTable) return;\n",
              "\n",
              "          const docLinkHtml = 'Like what you see? Visit the ' +\n",
              "            '<a target=\"_blank\" href=https://colab.research.google.com/notebooks/data_table.ipynb>data table notebook</a>'\n",
              "            + ' to learn more about interactive tables.';\n",
              "          element.innerHTML = '';\n",
              "          dataTable['output_type'] = 'display_data';\n",
              "          await google.colab.output.renderOutput(dataTable, element);\n",
              "          const docLink = document.createElement('div');\n",
              "          docLink.innerHTML = docLinkHtml;\n",
              "          element.appendChild(docLink);\n",
              "        }\n",
              "      </script>\n",
              "    </div>\n",
              "  </div>\n",
              "  "
            ]
          },
          "metadata": {},
          "execution_count": 286
        }
      ]
    },
    {
      "cell_type": "code",
      "source": [
        "max_vac = []                             # creating lists to append max values for occupied and vacant units\n",
        "max_occ = []\n",
        "\n",
        "for i in df_OHU.max():                   # using max method on dataframes to get the max value only\n",
        "  max_occ.append(i)\n",
        "\n",
        "for i in df_VHU.max():          \n",
        "  max_vac.append(i)\n",
        "\n",
        "\n",
        "dct3 = {                                 # creating dictionary \n",
        "    \"\" : (max_vac[1], max_occ[1]),       # getting 2nd index as dict values for housing types\n",
        "    \"Year\": (max_vac[0],max_occ[0]),     # gettings 1st index ad dict values for years\n",
        "    \"Value\": (max_vac[2], max_occ[2])    # getting 3rd index as dict values for Value key\n",
        "}\n",
        "\n",
        "new_df2 = pd.DataFrame(dct3)             # transforming dictionary back into dataframe\n",
        "new_df2"
      ],
      "metadata": {
        "colab": {
          "base_uri": "https://localhost:8080/",
          "height": 112
        },
        "id": "_195kicfk2u-",
        "outputId": "3347c311-9247-4c29-ac5e-2c49f7283fb9"
      },
      "execution_count": 280,
      "outputs": [
        {
          "output_type": "execute_result",
          "data": {
            "text/plain": [
              "                           Year  Value\n",
              "0    Vacant Housing Units  2014   4483\n",
              "1  Occupied Housing Units  2014  46295"
            ],
            "text/html": [
              "\n",
              "  <div id=\"df-a714e226-baad-4184-8219-875741225d34\">\n",
              "    <div class=\"colab-df-container\">\n",
              "      <div>\n",
              "<style scoped>\n",
              "    .dataframe tbody tr th:only-of-type {\n",
              "        vertical-align: middle;\n",
              "    }\n",
              "\n",
              "    .dataframe tbody tr th {\n",
              "        vertical-align: top;\n",
              "    }\n",
              "\n",
              "    .dataframe thead th {\n",
              "        text-align: right;\n",
              "    }\n",
              "</style>\n",
              "<table border=\"1\" class=\"dataframe\">\n",
              "  <thead>\n",
              "    <tr style=\"text-align: right;\">\n",
              "      <th></th>\n",
              "      <th></th>\n",
              "      <th>Year</th>\n",
              "      <th>Value</th>\n",
              "    </tr>\n",
              "  </thead>\n",
              "  <tbody>\n",
              "    <tr>\n",
              "      <th>0</th>\n",
              "      <td>Vacant Housing Units</td>\n",
              "      <td>2014</td>\n",
              "      <td>4483</td>\n",
              "    </tr>\n",
              "    <tr>\n",
              "      <th>1</th>\n",
              "      <td>Occupied Housing Units</td>\n",
              "      <td>2014</td>\n",
              "      <td>46295</td>\n",
              "    </tr>\n",
              "  </tbody>\n",
              "</table>\n",
              "</div>\n",
              "      <button class=\"colab-df-convert\" onclick=\"convertToInteractive('df-a714e226-baad-4184-8219-875741225d34')\"\n",
              "              title=\"Convert this dataframe to an interactive table.\"\n",
              "              style=\"display:none;\">\n",
              "        \n",
              "  <svg xmlns=\"http://www.w3.org/2000/svg\" height=\"24px\"viewBox=\"0 0 24 24\"\n",
              "       width=\"24px\">\n",
              "    <path d=\"M0 0h24v24H0V0z\" fill=\"none\"/>\n",
              "    <path d=\"M18.56 5.44l.94 2.06.94-2.06 2.06-.94-2.06-.94-.94-2.06-.94 2.06-2.06.94zm-11 1L8.5 8.5l.94-2.06 2.06-.94-2.06-.94L8.5 2.5l-.94 2.06-2.06.94zm10 10l.94 2.06.94-2.06 2.06-.94-2.06-.94-.94-2.06-.94 2.06-2.06.94z\"/><path d=\"M17.41 7.96l-1.37-1.37c-.4-.4-.92-.59-1.43-.59-.52 0-1.04.2-1.43.59L10.3 9.45l-7.72 7.72c-.78.78-.78 2.05 0 2.83L4 21.41c.39.39.9.59 1.41.59.51 0 1.02-.2 1.41-.59l7.78-7.78 2.81-2.81c.8-.78.8-2.07 0-2.86zM5.41 20L4 18.59l7.72-7.72 1.47 1.35L5.41 20z\"/>\n",
              "  </svg>\n",
              "      </button>\n",
              "      \n",
              "  <style>\n",
              "    .colab-df-container {\n",
              "      display:flex;\n",
              "      flex-wrap:wrap;\n",
              "      gap: 12px;\n",
              "    }\n",
              "\n",
              "    .colab-df-convert {\n",
              "      background-color: #E8F0FE;\n",
              "      border: none;\n",
              "      border-radius: 50%;\n",
              "      cursor: pointer;\n",
              "      display: none;\n",
              "      fill: #1967D2;\n",
              "      height: 32px;\n",
              "      padding: 0 0 0 0;\n",
              "      width: 32px;\n",
              "    }\n",
              "\n",
              "    .colab-df-convert:hover {\n",
              "      background-color: #E2EBFA;\n",
              "      box-shadow: 0px 1px 2px rgba(60, 64, 67, 0.3), 0px 1px 3px 1px rgba(60, 64, 67, 0.15);\n",
              "      fill: #174EA6;\n",
              "    }\n",
              "\n",
              "    [theme=dark] .colab-df-convert {\n",
              "      background-color: #3B4455;\n",
              "      fill: #D2E3FC;\n",
              "    }\n",
              "\n",
              "    [theme=dark] .colab-df-convert:hover {\n",
              "      background-color: #434B5C;\n",
              "      box-shadow: 0px 1px 3px 1px rgba(0, 0, 0, 0.15);\n",
              "      filter: drop-shadow(0px 1px 2px rgba(0, 0, 0, 0.3));\n",
              "      fill: #FFFFFF;\n",
              "    }\n",
              "  </style>\n",
              "\n",
              "      <script>\n",
              "        const buttonEl =\n",
              "          document.querySelector('#df-a714e226-baad-4184-8219-875741225d34 button.colab-df-convert');\n",
              "        buttonEl.style.display =\n",
              "          google.colab.kernel.accessAllowed ? 'block' : 'none';\n",
              "\n",
              "        async function convertToInteractive(key) {\n",
              "          const element = document.querySelector('#df-a714e226-baad-4184-8219-875741225d34');\n",
              "          const dataTable =\n",
              "            await google.colab.kernel.invokeFunction('convertToInteractive',\n",
              "                                                     [key], {});\n",
              "          if (!dataTable) return;\n",
              "\n",
              "          const docLinkHtml = 'Like what you see? Visit the ' +\n",
              "            '<a target=\"_blank\" href=https://colab.research.google.com/notebooks/data_table.ipynb>data table notebook</a>'\n",
              "            + ' to learn more about interactive tables.';\n",
              "          element.innerHTML = '';\n",
              "          dataTable['output_type'] = 'display_data';\n",
              "          await google.colab.output.renderOutput(dataTable, element);\n",
              "          const docLink = document.createElement('div');\n",
              "          docLink.innerHTML = docLinkHtml;\n",
              "          element.appendChild(docLink);\n",
              "        }\n",
              "      </script>\n",
              "    </div>\n",
              "  </div>\n",
              "  "
            ]
          },
          "metadata": {},
          "execution_count": 280
        }
      ]
    },
    {
      "cell_type": "code",
      "source": [
        "df_THU = df.loc[df['title_field'] == \"Total Housing Units\"]   # only considering the total units and assigning to a variable\n",
        "\n",
        "num_lst = []                           # creating a new list to append the values\n",
        "\n",
        "for i in df_THU['value']:              # adding all values from total units to the list\n",
        "  num_lst.append(i)\n",
        "\n",
        "\n",
        "def harmo_mean(numbers):              # defining a function with 1 parameter for numbers\n",
        "  count = 0                           # creating a counter\n",
        "  for i in numbers:\n",
        "    count += 1/i                      # diving 1 by each number then adding to count\n",
        "  return len(numbers)/count           # returning the length of the list of numbers divided by the count for harmonic mean\n",
        "\n",
        "harmo_mean(num_lst)"
      ],
      "metadata": {
        "colab": {
          "base_uri": "https://localhost:8080/"
        },
        "id": "neiWUJDB6PKx",
        "outputId": "3a45f4a9-d831-4c8a-ded7-d1e638ac9f3b"
      },
      "execution_count": 279,
      "outputs": [
        {
          "output_type": "execute_result",
          "data": {
            "text/plain": [
              "44398.28543969185"
            ]
          },
          "metadata": {},
          "execution_count": 279
        }
      ]
    }
  ],
  "metadata": {
    "colab": {
      "collapsed_sections": [],
      "name": "lab_assignment_02.ipynb",
      "provenance": [],
      "include_colab_link": true
    },
    "kernelspec": {
      "display_name": "Python 3 (ipykernel)",
      "language": "python",
      "name": "python3"
    },
    "language_info": {
      "codemirror_mode": {
        "name": "ipython",
        "version": 3
      },
      "file_extension": ".py",
      "mimetype": "text/x-python",
      "name": "python",
      "nbconvert_exporter": "python",
      "pygments_lexer": "ipython3",
      "version": "3.9.12"
    }
  },
  "nbformat": 4,
  "nbformat_minor": 0
}