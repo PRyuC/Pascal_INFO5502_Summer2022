{
  "cells": [
    {
      "cell_type": "markdown",
      "metadata": {
        "id": "view-in-github",
        "colab_type": "text"
      },
      "source": [
        "<a href=\"https://colab.research.google.com/github/PRyuC/Pascal_INFO5502_Summer2022/blob/main/lab_assignment_01.ipynb\" target=\"_parent\"><img src=\"https://colab.research.google.com/assets/colab-badge.svg\" alt=\"Open In Colab\"/></a>"
      ]
    },
    {
      "cell_type": "markdown",
      "metadata": {
        "id": "DymRJbxDBCnf"
      },
      "source": [
        "# **The first Lab-assignment (07/15/2022 11:59'AM' to 7/19/2022 11:59PM, 50 points in total)**"
      ]
    },
    {
      "cell_type": "markdown",
      "metadata": {
        "id": "jJDe71iLB616"
      },
      "source": [
        "(1) Write a Python program to count the number of characters in a string. (6 points)\n",
        "\n",
        "Sample String : 'google.com', \n",
        "\n",
        "Expected Result : {'o': 3, 'g': 2, '.': 1, 'e': 1, 'l': 1, 'm': 1, 'c': 1}"
      ]
    },
    {
      "cell_type": "code",
      "execution_count": 1,
      "metadata": {
        "colab": {
          "base_uri": "https://localhost:8080/"
        },
        "id": "MtKskTzbCLaU",
        "outputId": "2b35a481-b93d-48c9-d390-3280b0c4dbce"
      },
      "outputs": [
        {
          "output_type": "stream",
          "name": "stdout",
          "text": [
            "{'o': 3, 'g': 2, 'l': 1, 'e': 1, '.': 1, 'c': 1, 'm': 1}\n",
            "{'t': 6, 's': 4, 'e': 3, '.': 2, '@': 1, 'i': 1, 'n': 1, 'g': 1, 'c': 1, 'o': 1, 'm': 1}\n"
          ]
        }
      ],
      "source": [
        "def count_char(any_string):                    # defining a function taking 1 parameter for the string\n",
        "  char = {}                                    # creating an empty dictionary to pass key-value pairs\n",
        "  for letter in any_string:                    \n",
        "    char[letter] = char.get(letter, 0) + 1     # creating key-value pairs (default value is 0 if not found) then adding 1                               \n",
        "  \n",
        "  char_list = sorted(char.items(), key=lambda x:x[1], reverse=True) # (wanted it sorted like the expected result so) reverse sorted items in a list of tuples\n",
        "  sorted_dict = dict(char_list)                                     # transforming the list back into a dictionary\n",
        "  print(sorted_dict)                                                # printing the sorted dictionary\n",
        "\n",
        "\n",
        "count_char(\"google.com\")                      # calling the function\n",
        "count_char(\"test.tests@testing.com\")"
      ]
    },
    {
      "cell_type": "markdown",
      "metadata": {
        "id": "55W9AMdXCSpV"
      },
      "source": [
        "(2) Write a Python program to sum all the items in a list. (6 points)"
      ]
    },
    {
      "cell_type": "code",
      "execution_count": 2,
      "metadata": {
        "colab": {
          "base_uri": "https://localhost:8080/"
        },
        "id": "I57NXsauCec2",
        "outputId": "dad1c2e7-5710-4fdb-82cf-3f4e8a182e4e"
      },
      "outputs": [
        {
          "output_type": "execute_result",
          "data": {
            "text/plain": [
              "1347"
            ]
          },
          "metadata": {},
          "execution_count": 2
        }
      ],
      "source": [
        "def sum_items(any_list):                        # defining a function taking 1 parameter for the list\n",
        "  count = 0                                     # setting a counter to add each item progressively\n",
        "  for item in any_list:                         \n",
        "    count += item                               # adding the items\n",
        "  return count                                  # returning the counter\n",
        "\n",
        "sum_items([10, 20, 127, 4, 72, 3, 1111])        "
      ]
    },
    {
      "cell_type": "markdown",
      "metadata": {
        "id": "4ulBZ6yhCi9F"
      },
      "source": [
        "(3) Write a Python program to get a string from a given string where all occurrences of its first char have been changed to '\\$', except the first char itself. (6 points)\n",
        "\n",
        "Sample String : 'restart', \n",
        "\n",
        "Expected Result : 'resta\\$t'"
      ]
    },
    {
      "cell_type": "code",
      "execution_count": 3,
      "metadata": {
        "colab": {
          "base_uri": "https://localhost:8080/",
          "height": 35
        },
        "id": "Fj0XhwbBCw2o",
        "outputId": "322a35f1-f017-4c81-8908-a40a14617278"
      },
      "outputs": [
        {
          "output_type": "execute_result",
          "data": {
            "text/plain": [
              "'i am wr$t$ng a long sentence to see $f $t $s work$ng'"
            ],
            "application/vnd.google.colaboratory.intrinsic+json": {
              "type": "string"
            }
          },
          "metadata": {},
          "execution_count": 3
        }
      ],
      "source": [
        "def change_letter(any_string, new_char):                    # defining a function taking 2 parameters for the string and the new character\n",
        "  first_letter = any_string[0]                              # assigning the first character of a string to a variable\n",
        "  rest_string = any_string[1:]                              # assigning the rest of the string to another variable\n",
        "\n",
        "  for letter in any_string:                                                        \n",
        "    if letter == first_letter:                                             \n",
        "      return first_letter + any_string[1:].replace(first_letter, new_char) # 1st character returned as itself, using replace method to change other instances.\n",
        "\n",
        "change_letter(\"i am writing a long sentence to see if it is working\", \"$\")"
      ]
    },
    {
      "cell_type": "markdown",
      "metadata": {
        "id": "_bIP7s1MCzue"
      },
      "source": [
        "(4) Write a program with python which could accept two parameter a and b to calculate and output the result of S, where \n",
        "\n",
        "$\\ S=3.14*(1+a/b)^3$ (6 points)\n",
        "\n"
      ]
    },
    {
      "cell_type": "code",
      "execution_count": 4,
      "metadata": {
        "colab": {
          "base_uri": "https://localhost:8080/"
        },
        "id": "w79QilHXD3Mg",
        "outputId": "06287941-ac40-4943-f16b-8e424b0f08cc"
      },
      "outputs": [
        {
          "output_type": "execute_result",
          "data": {
            "text/plain": [
              "10.5975"
            ]
          },
          "metadata": {},
          "execution_count": 4
        }
      ],
      "source": [
        "def calculate_s(a, b):             # defining a function taking 2 parameter for the value of a and the value of b\n",
        "  S = 3.14 * (1 + a/b)**3          # same formula with ** for exponential\n",
        "  return S                         # returning S\n",
        "\n",
        "calculate_s(10, 20)               "
      ]
    },
    {
      "cell_type": "markdown",
      "metadata": {
        "id": "xCa2bK9aD4Q3"
      },
      "source": [
        "(5) Write a Python program to concatenate following dictionaries to create a new one. (6 points)\n",
        "\n",
        "Sample Dictionary : dic1={1:10, 2:20}, dic2={3:30, 4:40}, dic3={5:50,6:60}, \n",
        "\n",
        "Expected Result : {1: 10, 2: 20, 3: 30, 4: 40, 5: 50, 6: 60}\n"
      ]
    },
    {
      "cell_type": "code",
      "execution_count": 5,
      "metadata": {
        "colab": {
          "base_uri": "https://localhost:8080/"
        },
        "id": "_z4aLqAbEET1",
        "outputId": "7ab9714d-ff32-4a29-840f-a3d52a90152d"
      },
      "outputs": [
        {
          "output_type": "execute_result",
          "data": {
            "text/plain": [
              "{1: 10,\n",
              " 2: 20,\n",
              " 3: 30,\n",
              " 4: 40,\n",
              " 5: 50,\n",
              " 6: 60,\n",
              " 7: 70,\n",
              " 8: 80,\n",
              " 'age': 77,\n",
              " 'color': 'red'}"
            ]
          },
          "metadata": {},
          "execution_count": 5
        }
      ],
      "source": [
        "def concatenate_dicts(*dictios):  # defining a function with an unknown number of parameters with *\n",
        "  new_dict = {}                   # creating a new empty dictionary\n",
        "  for dictio in dictios:           \n",
        "    new_dict.update(dictio)       # updating the new dictionary with the items from each dictionary\n",
        "  return new_dict                 \n",
        "\n",
        "dic1={1:10, 2:20}\n",
        "dic2={3:30, 4:40}\n",
        "dic3={5:50, 6:60}\n",
        "dic4={7:70, 8:80}\n",
        "dic5={'color':'red', 'age':77}\n",
        "\n",
        "concatenate_dicts(dic1, dic2, dic3, dic4, dic5)"
      ]
    },
    {
      "cell_type": "markdown",
      "metadata": {
        "id": "0v48Vqa7FrQh"
      },
      "source": [
        "(6) Write a Python program to check whether an element exists within a tuple. (6 points)"
      ]
    },
    {
      "cell_type": "code",
      "execution_count": 11,
      "metadata": {
        "colab": {
          "base_uri": "https://localhost:8080/"
        },
        "id": "7WEmgq-DF2P1",
        "outputId": "cb56de3d-ace9-4887-c328-8a6fd4212ec8"
      },
      "outputs": [
        {
          "output_type": "stream",
          "name": "stdout",
          "text": [
            "False\n",
            "True\n"
          ]
        }
      ],
      "source": [
        "def is_in_tuple(a_tuple, an_element):           # defining a function with 2 parameters for the tuple and the element\n",
        "  for element in a_tuple:                       \n",
        "    if an_element in a_tuple:                   # using 'in' to check if it is in the tuple then returning true on false depending\n",
        "      return True                               \n",
        "    else:                                      \n",
        "      return False                              \n",
        "\n",
        "tuple_test = (\"rock\", \"metal\", \"jazz\", \"pop\", \"electro\")\n",
        "\n",
        "print(is_in_tuple(tuple_test, \"EDM\"))          \n",
        "print(is_in_tuple(tuple_test, \"rock\"))"
      ]
    },
    {
      "cell_type": "markdown",
      "metadata": {
        "id": "vD5PYLMuGga_"
      },
      "source": [
        "(7) Write a Python program to find maximum and the minimum value in a set. (6 points)"
      ]
    },
    {
      "cell_type": "code",
      "execution_count": 24,
      "metadata": {
        "colab": {
          "base_uri": "https://localhost:8080/"
        },
        "id": "t0D5kdJUGjjw",
        "outputId": "c583f442-88d5-4a28-9bde-445779751f60"
      },
      "outputs": [
        {
          "output_type": "stream",
          "name": "stdout",
          "text": [
            "MAX is: 173 and MIN is: 10\n",
            "Items cannot be of different types!\n"
          ]
        }
      ],
      "source": [
        "def max_and_min(a_set):                  # defining a function with 1 parameter for the set\n",
        "  \n",
        "  try:                                   # using try/except block to deal with different types of values in a set\n",
        "    the_max = max(a_set)                 # using the built-in function max to get the maximum value from the set and assigning it to a variable\n",
        "    the_min = min(a_set)                 # same with the min function\n",
        "  except:\n",
        "    return \"Items cannot be of different types!\"   \n",
        "  return \"MAX is: \" + str(the_max) + \" and MIN is: \" + str(the_min)  # returning the values by typecasting to string\n",
        "\n",
        "set_test = {20, 127, 10, 14, 173}\n",
        "set_test2 = {10, \"SHOES\", \"dragon\", 2, True}\n",
        "\n",
        "\n",
        "print(max_and_min(set_test))\n",
        "print(max_and_min(set_test2))"
      ]
    },
    {
      "cell_type": "markdown",
      "metadata": {
        "id": "38ne3gq90sf_"
      },
      "source": [
        "(8) Write a Python program to find the duplicate elements in a given array of integers. Return -1 If there are no such elements. (8 points)"
      ]
    },
    {
      "cell_type": "code",
      "execution_count": 23,
      "metadata": {
        "colab": {
          "base_uri": "https://localhost:8080/"
        },
        "id": "5CO6m8OL0sf_",
        "outputId": "33ac3ba5-9f63-4755-9da6-6e86402714bf"
      },
      "outputs": [
        {
          "output_type": "stream",
          "name": "stdout",
          "text": [
            "{2, 4, 6}\n",
            "-1\n"
          ]
        }
      ],
      "source": [
        "def find_dups(an_array):                 # defining the function with 1 parameter for the array\n",
        "  a_list = []                            # creating an empty list to append items from the array\n",
        "  a_set = set()                          # creating an empty set to add numbers that are already in the list\n",
        "\n",
        "  for number in an_array:                \n",
        "    if number not in a_list:             \n",
        "      a_list.append(number)              # appending the number to the list if not already in it\n",
        "    else:                                \n",
        "      a_set.add(number)                  # if in the list, adding it to the set instead\n",
        "    \n",
        "  if len(a_set) == 0:                    # if the length of the set is equal to 0 (no duplicates) -1 will be returned\n",
        "    return -1                           \n",
        "  else:                                  # if it is not equal to 0 then the set will be returend\n",
        "    return a_set\n",
        "\n",
        "\n",
        "array_test_one = [2, 3, 4, 6, 7, 6, 4, 2]\n",
        "array_test_two = [10, 20, 30, 40, 50, 60]\n",
        "\n",
        "print(find_dups(array_test_one))\n",
        "print(find_dups(array_test_two))"
      ]
    }
  ],
  "metadata": {
    "colab": {
      "collapsed_sections": [],
      "name": "lab_assignment_01.ipynb",
      "provenance": [],
      "include_colab_link": true
    },
    "kernelspec": {
      "display_name": "Python 3 (ipykernel)",
      "language": "python",
      "name": "python3"
    },
    "language_info": {
      "codemirror_mode": {
        "name": "ipython",
        "version": 3
      },
      "file_extension": ".py",
      "mimetype": "text/x-python",
      "name": "python",
      "nbconvert_exporter": "python",
      "pygments_lexer": "ipython3",
      "version": "3.9.12"
    },
    "vscode": {
      "interpreter": {
        "hash": "5c6a7f839effdddf35473dacbb9a8184e57ebbba5133cab03b12e4f28d4f0d0f"
      }
    }
  },
  "nbformat": 4,
  "nbformat_minor": 0
}